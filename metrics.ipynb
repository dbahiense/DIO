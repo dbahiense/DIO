{
  "nbformat": 4,
  "nbformat_minor": 0,
  "metadata": {
    "colab": {
      "name": "metrics.ipynb",
      "provenance": [],
      "authorship_tag": "ABX9TyPCZLvIuOaXdNtPgZrdTZDT",
      "include_colab_link": true
    },
    "kernelspec": {
      "name": "python3",
      "display_name": "Python 3"
    },
    "language_info": {
      "name": "python"
    }
  },
  "cells": [
    {
      "cell_type": "markdown",
      "metadata": {
        "id": "view-in-github",
        "colab_type": "text"
      },
      "source": [
        "<a href=\"https://colab.research.google.com/github/dbahiense/DIO/blob/main/metrics.ipynb\" target=\"_parent\"><img src=\"https://colab.research.google.com/assets/colab-badge.svg\" alt=\"Open In Colab\"/></a>"
      ]
    },
    {
      "cell_type": "code",
      "source": [
        "#importar bibliotecas e módulos necessários\n",
        "from pandas import read_csv\n",
        "import numpy\n",
        "from sklearn.model_selection import train_test_split\n",
        "from sklearn.svm import SVC\n",
        "from sklearn.metrics import confusion_matrix\n",
        "from sklearn.metrics import classification_report"
      ],
      "metadata": {
        "id": "uPvunfuKGBRD"
      },
      "execution_count": 22,
      "outputs": []
    },
    {
      "cell_type": "code",
      "execution_count": 23,
      "metadata": {
        "id": "LIjzlbKfF1wA"
      },
      "outputs": [],
      "source": [
        "#obter dados\n",
        "#endereço dos dados originais\n",
        "url = \"https://gist.githubusercontent.com/dbahiense/ff947f3b1825f52071d932ab2e11ab93/raw/14e902188221c34124131cef58d8687dde8f7b01/sonar.csv\"\n",
        "\n",
        "#lê o arquivo\n",
        "data = read_csv(url)"
      ]
    },
    {
      "cell_type": "code",
      "source": [
        "#separar dados para treino e testes\n",
        "\n",
        "#dispõe os dados em forma de array\n",
        "array = data.values\n",
        "\n",
        "#fatia os dados em um conjunto de inputs X e outro de output y\n",
        "X = array[ : , 0:60]\n",
        "y = array[ : , 60]\n",
        "\n",
        "#From documentation: split array or matrix into random train and test subsets\n",
        "test_size = 0.20\n",
        "seed = 7\n",
        "\n",
        "X_train, X_test, y_train, y_test = train_test_split(X, y, test_size=test_size, random_state=seed)"
      ],
      "metadata": {
        "id": "mmi9tM6zGS2S"
      },
      "execution_count": 28,
      "outputs": []
    },
    {
      "cell_type": "code",
      "source": [
        "#fazer predições usando SVM e imprimir matrix de confusão\n",
        "svm = SVC(gamma='auto')\n",
        "svm.fit(X_train, y_train)\n",
        "\n",
        "predictions = svm.predict(X_test)\n",
        "\n",
        "print(confusion_matrix(y_test, predictions))"
      ],
      "metadata": {
        "colab": {
          "base_uri": "https://localhost:8080/"
        },
        "id": "tK2wPLW0G4op",
        "outputId": "d136a1a8-e18f-469d-fee4-d04d8b65fd0d"
      },
      "execution_count": 34,
      "outputs": [
        {
          "output_type": "stream",
          "name": "stdout",
          "text": [
            "[[24  2]\n",
            " [ 8  8]]\n"
          ]
        }
      ]
    },
    {
      "cell_type": "code",
      "source": [
        "#manualmente\n",
        "#VP FP\n",
        "#FN VN\n",
        "\n",
        "VP = 24\n",
        "FP = 2\n",
        "FN = 8\n",
        "VN = 8\n",
        "N = 42\n",
        "P = VP / (VP + FP)\n",
        "S = VP / (VP + FN)\n",
        "\n",
        "print(f'Sensibilidade(recall): {S}')\n",
        "print(f'Especificidade: {VN / (FP + VN)}')\n",
        "print(f'Acurácia: {(VP + VN) / N}')\n",
        "print(f'Precisão: {P}')\n",
        "print(f'F1-score: {2 * (P * S) / (P + S)}')"
      ],
      "metadata": {
        "colab": {
          "base_uri": "https://localhost:8080/"
        },
        "id": "Cv04MpNkI7Hg",
        "outputId": "801f6e97-4709-4309-e400-5f3c1f61d6a2"
      },
      "execution_count": 35,
      "outputs": [
        {
          "output_type": "stream",
          "name": "stdout",
          "text": [
            "Sensibilidade(recall): 0.75\n",
            "Especificidade: 0.8\n",
            "Acurácia: 0.7619047619047619\n",
            "Precisão: 0.9230769230769231\n",
            "F1-score: 0.8275862068965517\n"
          ]
        }
      ]
    }
  ]
}