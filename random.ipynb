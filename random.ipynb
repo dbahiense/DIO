{
  "nbformat": 4,
  "nbformat_minor": 0,
  "metadata": {
    "colab": {
      "name": "random.ipynb",
      "provenance": [],
      "authorship_tag": "ABX9TyP/YpFzB8nkb0wSa564Olnm",
      "include_colab_link": true
    },
    "kernelspec": {
      "name": "python3",
      "display_name": "Python 3"
    },
    "language_info": {
      "name": "python"
    }
  },
  "cells": [
    {
      "cell_type": "markdown",
      "metadata": {
        "id": "view-in-github",
        "colab_type": "text"
      },
      "source": [
        "<a href=\"https://colab.research.google.com/github/dbahiense/DIO/blob/main/random.ipynb\" target=\"_parent\"><img src=\"https://colab.research.google.com/assets/colab-badge.svg\" alt=\"Open In Colab\"/></a>"
      ]
    },
    {
      "cell_type": "code",
      "source": [
        "import random"
      ],
      "metadata": {
        "id": "IDWLbKx4NPm-"
      },
      "execution_count": 3,
      "outputs": []
    },
    {
      "cell_type": "code",
      "source": [
        "#random float between 0 and 1\n",
        "num = random.random()\n",
        "print(num)"
      ],
      "metadata": {
        "colab": {
          "base_uri": "https://localhost:8080/"
        },
        "id": "x8ItDdbPNRUT",
        "outputId": "dfd5795d-1437-42a2-9dce-27086086a502"
      },
      "execution_count": 28,
      "outputs": [
        {
          "output_type": "stream",
          "name": "stdout",
          "text": [
            "0.11470546670346105\n"
          ]
        }
      ]
    },
    {
      "cell_type": "code",
      "source": [
        "#random integer between m and n (inclusive)\n",
        "m = 0\n",
        "n = 10\n",
        "num = random.randint(m,n)\n",
        "print(num)"
      ],
      "metadata": {
        "colab": {
          "base_uri": "https://localhost:8080/"
        },
        "id": "fzvH_b81Nyxd",
        "outputId": "303520ca-616a-4a27-fbfd-dfbaddc23326"
      },
      "execution_count": 42,
      "outputs": [
        {
          "output_type": "stream",
          "name": "stdout",
          "text": [
            "8\n"
          ]
        }
      ]
    },
    {
      "cell_type": "code",
      "source": [
        "m = 0  #min allowed element in the list\n",
        "n = 99 #max allowed element in the list\n",
        "r = 10 #number  of elements in the list"
      ],
      "metadata": {
        "id": "8uCH8LGWTWg9"
      },
      "execution_count": 44,
      "outputs": []
    },
    {
      "cell_type": "code",
      "source": [
        "nums = []\n",
        "\n",
        "for i in range(r):\n",
        "  num = random.randint(m,n)\n",
        "  nums.append(num)\n",
        "\n",
        "print(nums)"
      ],
      "metadata": {
        "colab": {
          "base_uri": "https://localhost:8080/"
        },
        "id": "UOBnWIiHONc7",
        "outputId": "4373d4c9-9edf-4948-fbea-64129ff417c3"
      },
      "execution_count": 45,
      "outputs": [
        {
          "output_type": "stream",
          "name": "stdout",
          "text": [
            "[68, 0, 35, 94, 42, 11, 36, 52, 23, 59]\n"
          ]
        }
      ]
    },
    {
      "cell_type": "code",
      "source": [
        "#same as above, but in a straigher way\n",
        "#generate r random integers between m and n\n",
        "nums = random.sample(range(m, n), r)\n",
        "print(nums)"
      ],
      "metadata": {
        "colab": {
          "base_uri": "https://localhost:8080/"
        },
        "id": "iVRjZcXcQMnD",
        "outputId": "b2c9a7de-2230-4c06-adf6-3289ead4aae0"
      },
      "execution_count": 47,
      "outputs": [
        {
          "output_type": "stream",
          "name": "stdout",
          "text": [
            "[67, 58, 0, 84, 53, 95, 1, 21, 40, 79]\n"
          ]
        }
      ]
    },
    {
      "cell_type": "code",
      "execution_count": 48,
      "metadata": {
        "colab": {
          "base_uri": "https://localhost:8080/"
        },
        "id": "VAm9G8UkN-Et",
        "outputId": "4b47c42f-ecd9-4521-8c42-7364da0221a8"
      },
      "outputs": [
        {
          "output_type": "execute_result",
          "data": {
            "text/plain": [
              "95"
            ]
          },
          "metadata": {},
          "execution_count": 48
        }
      ],
      "source": [
        "def find_max(nums):\n",
        "  max_num = float(\"-inf\")\n",
        "  for num in nums:\n",
        "    if num > max_num:\n",
        "      max_num = num\n",
        "  return max_num\n",
        "\n",
        "find_max(nums)"
      ]
    },
    {
      "cell_type": "code",
      "source": [
        "def find_min(nums):\n",
        "  min_num = float(\"inf\")\n",
        "  for num in nums:\n",
        "    if num < min_num:\n",
        "      min_num = num\n",
        "  return min_num\n",
        "\n",
        "find_min(nums)"
      ],
      "metadata": {
        "colab": {
          "base_uri": "https://localhost:8080/"
        },
        "id": "WUInr0KePHnn",
        "outputId": "7ddb986a-9880-4555-89f8-0654872a60eb"
      },
      "execution_count": 49,
      "outputs": [
        {
          "output_type": "execute_result",
          "data": {
            "text/plain": [
              "0"
            ]
          },
          "metadata": {},
          "execution_count": 49
        }
      ]
    }
  ]
}