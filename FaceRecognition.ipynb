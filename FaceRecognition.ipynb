{
  "nbformat": 4,
  "nbformat_minor": 0,
  "metadata": {
    "colab": {
      "provenance": [],
      "authorship_tag": "ABX9TyO7Uu7sTiVRWJW0KNHNZAJ5",
      "include_colab_link": true
    },
    "kernelspec": {
      "name": "python3",
      "display_name": "Python 3"
    },
    "language_info": {
      "name": "python"
    },
    "accelerator": "GPU"
  },
  "cells": [
    {
      "cell_type": "markdown",
      "metadata": {
        "id": "view-in-github",
        "colab_type": "text"
      },
      "source": [
        "<a href=\"https://colab.research.google.com/github/dbahiense/DIO/blob/main/FaceRecognition.ipynb\" target=\"_parent\"><img src=\"https://colab.research.google.com/assets/colab-badge.svg\" alt=\"Open In Colab\"/></a>"
      ]
    },
    {
      "cell_type": "code",
      "source": [
        "#instalar face_recognition\n",
        "#https://stackoverflow.com/questions/63394119/how-do-i-import-face-recognition-in-google-colaboratory\n",
        "!pip install face_recognition"
      ],
      "metadata": {
        "id": "ZbBjwlZWaEja"
      },
      "execution_count": null,
      "outputs": []
    },
    {
      "cell_type": "code",
      "execution_count": null,
      "metadata": {
        "id": "JzmgQ9MDQJ_F"
      },
      "outputs": [],
      "source": [
        "import face_recognition\n",
        "import os\n",
        "from PIL import Image, ImageDraw\n",
        "\n",
        "Bob_image = face_recognition.load_image_file(\"known/thequeen.jpg\")\n",
        "Bob_encoding = face_recognition.face_encodings(Bob_image)[0]\n",
        "Julian_image = face_recognition.load_image_file(\"known/harry.jpg\")\n",
        "Julian_encoding = face_recognition.face_encodings(Julian_image)[0]\n",
        "unknown_faces = os.listdir(\"unknown/\")\n",
        "\n",
        "known_face_encodings = [\n",
        "    Bob_encoding,\n",
        "    Julian_encoding,\n",
        "]\n",
        "\n",
        "known_face_names = [\n",
        "    \"The Queen\",\n",
        "    \"Harry\",\n",
        "]\n",
        "\n",
        "for ukface in unknown_faces:\n",
        "    ukimage = face_recognition.load_image_file(f\"unknown/{ukface}\")\n",
        "    ukface_locations = face_recognition.face_locations(ukimage)\n",
        "    ukface_encodings = face_recognition.face_encodings(ukimage, ukface_locations)\n",
        "\n",
        "    # Convert to PIL format\n",
        "    pil_image = Image.fromarray(ukimage)\n",
        "\n",
        "    # Set up drawing on image\n",
        "    draw = ImageDraw.Draw(pil_image)\n",
        "    for (top, right, bottom, left), ukface_encoding in zip(\n",
        "        ukface_locations, ukface_encodings\n",
        "    ):\n",
        "        matches = face_recognition.compare_faces(known_face_encodings, ukface_encoding)\n",
        "\n",
        "        name = \"Unknown Person\"\n",
        "\n",
        "        if True in matches:\n",
        "            first_match_index = matches.index(True)\n",
        "            name = known_face_names[first_match_index]\n",
        "\n",
        "        # Draw Box\n",
        "        draw.rectangle(\n",
        "            ((left - 10, top - 10), (right + 10, bottom + 10)), outline=(227, 236, 75)\n",
        "        )\n",
        "\n",
        "        # Draw Label\n",
        "        text_width, text_height = draw.textsize(name)\n",
        "        draw.rectangle(\n",
        "            ((left - 10, bottom - text_height + 2), (right + 10, bottom + 10)),\n",
        "            fill=(227, 236, 75),\n",
        "            outline=(227, 236, 75),\n",
        "        )\n",
        "        draw.text((left, bottom - text_height + 5), name, fill=(0, 0, 0, 0))\n",
        "\n",
        "    del draw\n",
        "    pil_image.save(f\"identified/{ukface}_scanned.jpg\")\n",
        "    #pil_image.show()"
      ]
    }
  ]
}