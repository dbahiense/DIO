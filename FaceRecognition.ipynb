import os
import csv
import cv2
from google.colab.patches import cv2_imshow
import numpy as np
from scipy.stats import mode
import time
